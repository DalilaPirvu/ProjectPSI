{
 "cells": [
  {
   "cell_type": "markdown",
   "metadata": {},
   "source": [
    "# 2 Wavepackets"
   ]
  },
  {
   "cell_type": "code",
   "execution_count": 4,
   "metadata": {},
   "outputs": [],
   "source": [
    "import matplotlib.animation as animation;import matplotlib.pyplot as plt; from matplotlib import gridspec\n",
    "from labellines import labelLines; from celluloid import Camera; import scipy.signal as scs\n",
    "import scipy.special as ssp; from operator import add; import numpy as np; import random"
   ]
  },
  {
   "cell_type": "markdown",
   "metadata": {},
   "source": [
    "## Simulation Parameters"
   ]
  },
  {
   "cell_type": "code",
   "execution_count": 5,
   "metadata": {},
   "outputs": [
    {
     "name": "stdout",
     "output_type": "stream",
     "text": [
      "m2eff= 0.009999999999999997\n",
      "sigma= 1.5000000000000002\n",
      "phi0= 1.5707963267948966\n",
      "width =  [1.5, 2.0, 2.500000000000001, 3.0000000000000004, 3.5000000000000004, 4.000000000000002, 4.500000000000002, 5.000000000000001, 5.500000000000001, 6.000000000000001, 6.500000000000002, 7.000000000000003, 7.500000000000002, 8.000000000000004, 8.500000000000002, 9.000000000000002, 9.500000000000004, 10.000000000000002, 10.500000000000004, 11.000000000000002, 11.500000000000004, 12.000000000000004, 12.500000000000004, 13.000000000000005, 13.500000000000004, 14.000000000000004, 14.500000000000004, 15.000000000000005, 15.500000000000005, 16.000000000000004, 16.500000000000004, 17.000000000000004, 17.500000000000004, 18.000000000000007, 18.500000000000004, 19.000000000000004, 19.500000000000004, 20.000000000000007, 20.500000000000007, 21.000000000000004, 21.500000000000007, 22.000000000000007, 22.500000000000004, 23.000000000000007, 23.500000000000004, 24.000000000000007, 24.500000000000007, 25.00000000000001, 25.500000000000007, 26.000000000000007, 26.500000000000007, 27.000000000000007, 27.50000000000001, 28.000000000000007, 28.500000000000007, 29.00000000000001, 29.500000000000007, 30.00000000000001, 30.500000000000007, 31.000000000000007, 31.50000000000001, 32.00000000000001, 32.500000000000014, 33.00000000000001, 33.50000000000001, 34.00000000000001, 34.50000000000001, 35.000000000000014, 35.50000000000001, 36.00000000000001, 36.50000000000001, 37.00000000000001, 37.500000000000014, 38.00000000000001, 38.50000000000001, 39.000000000000014, 39.50000000000001, 40.000000000000014, 40.50000000000001, 41.00000000000001]\n",
      "amplitude =  [0.015707963267948967, 0.031415926535897934, 0.0471238898038469, 0.06283185307179587, 0.07853981633974483, 0.0942477796076938, 0.10995574287564278, 0.12566370614359174, 0.1413716694115407, 0.15707963267948966, 0.17278759594743864, 0.1884955592153876, 0.20420352248333656, 0.21991148575128555, 0.2356194490192345, 0.25132741228718347, 0.26703537555513246, 0.2827433388230814, 0.2984513020910304, 0.3141592653589793, 0.3298672286269283, 0.3455751918948773, 0.3612831551628262, 0.3769911184307752, 0.3926990816987242, 0.4084070449666731, 0.4241150082346221, 0.4398229715025711, 0.45553093477052004, 0.471238898038469, 0.48694686130641796, 0.5026548245743669, 0.5183627878423159, 0.5340707511102649, 0.5497787143782138, 0.5654866776461628, 0.5811946409141118, 0.5969026041820608, 0.6126105674500097, 0.6283185307179586, 0.6440264939859076, 0.6597344572538566, 0.6754424205218056, 0.6911503837897546, 0.7068583470577036, 0.7225663103256524, 0.7382742735936014, 0.7539822368615504, 0.7696902001294994, 0.7853981633974484, 0.8011061266653973, 0.8168140899333463, 0.8325220532012952, 0.8482300164692442, 0.8639379797371932, 0.8796459430051422, 0.8953539062730911, 0.9110618695410401, 0.9267698328089891, 0.942477796076938, 0.958185759344887, 0.9738937226128359, 0.9896016858807849, 1.0053096491487339, 1.0210176124166828, 1.0367255756846319, 1.0524335389525807, 1.0681415022205298, 1.0838494654884787, 1.0995574287564276, 1.1152653920243767, 1.1309733552923256, 1.1466813185602747, 1.1623892818282235, 1.1780972450961724, 1.1938052083641215, 1.2095131716320704, 1.2252211349000195, 1.2409290981679684, 1.2566370614359172, 1.2723450247038663, 1.2880529879718152, 1.3037609512397643, 1.3194689145077132, 1.3351768777756623, 1.3508848410436112, 1.36659280431156, 1.3823007675795091, 1.398008730847458, 1.4137166941154071, 1.429424657383356, 1.4451326206513049, 1.460840583919254, 1.4765485471872029, 1.492256510455152, 1.5079644737231008, 1.5236724369910497, 1.5393804002589988, 1.5550883635269477, 1.5707963267948968, 1.5865042900628457, 1.6022122533307945, 1.6179202165987436, 1.6336281798666925, 1.6493361431346416]\n",
      "means =  89 167\n",
      "lag =  [1, 2]\n"
     ]
    }
   ],
   "source": [
    "nLat = 256; nTime = 32; width0 = 1.; amplitude0 = 0; nWid = 80; nAmp = 80+25\n",
    "\n",
    "alpha = 8.\n",
    "nCols = 5\n",
    "n_cross = 2\n",
    "nu = 2.*10**(-3)\n",
    "omega = 0.25 * 50. * 2. * np.sqrt(nu)\n",
    "delt = np.sqrt(nu / 2.) * (1. + 0.5)\n",
    "lamb = delt * np.sqrt(2. / nu)\n",
    "rho = 200. * 2. * np.sqrt(nu) / 2.**3\n",
    "lenLat = 0.5 * 50. / np.sqrt(2. * nu)\n",
    "nyq = int(nLat/2)+1\n",
    "spec = int(nyq/2)\n",
    "hLat = int(nLat/2)\n",
    "dx = lenLat/nLat\n",
    "dk = 2.*np.pi/lenLat\n",
    "dt = dx/alpha\n",
    "outsize = 4*n_cross*nLat/nTime\n",
    "dtout = dt*outsize\n",
    "\n",
    "m2eff = 4. * nu * (- 1. + lamb**2); print('m2eff=',m2eff) \n",
    "sigma = 0.15/np.sqrt(m2eff); print('sigma=',sigma)\n",
    "phi0 = np.pi/2; print('phi0=',phi0)\n",
    "\n",
    "#Sims = [i for i in range(1, 9)]; print('sim = ', Sims)\n",
    "width = [width0 + wid * 0.05 / np.sqrt(m2eff) for wid in range(1, nWid+1)]; print('width = ', width)\n",
    "amplitude = [amplitude0 + np.pi/200. * amp for amp in range(1, nAmp+1)]; print('amplitude = ', amplitude)\n",
    "mean1 = int(nLat/4 + nLat/10.); mean2 = nLat-mean1; print('means = ', mean1, mean2)\n",
    "tean1 = int(mean1*nTime/nLat); tean2 = int(mean2*nTime/nLat)\n",
    "lag = [int(i) for i in range(1, 3)]; print('lag = ', lag)"
   ]
  },
  {
   "cell_type": "code",
   "execution_count": 6,
   "metadata": {},
   "outputs": [],
   "source": [
    "titles = [r'Field $\\phi(x)$', r'Smoothed $\\phi(x)$']\n",
    "file_plots = '/home/dpirvu/collisions/plots/'\n",
    "plot_sim_suffix = '_for_t'+str(nTime)+'_x'+str(nLat)+'_fields'"
   ]
  },
  {
   "cell_type": "markdown",
   "metadata": {},
   "source": [
    "## Extract Data from Simulations "
   ]
  },
  {
   "cell_type": "code",
   "execution_count": 7,
   "metadata": {},
   "outputs": [],
   "source": [
    "def extract_data(filename, col):\n",
    "    infile = open(filename,'r')\n",
    "    lines = infile.readlines()\n",
    "    field_values = [float(line.split()[col]) for line in lines[2:]]\n",
    "    infile.close()\n",
    "    return field_values\n",
    "\n",
    "def truncateNum(num, decimal_places):\n",
    "    StrNum = str(num)\n",
    "    p = StrNum.find(\".\") + 1 + decimal_places\n",
    "    return ( StrNum[0:p] )\n",
    "    \n",
    "def sim_location(x, y, lag, sim):\n",
    "    \"\"\" x = width, y = amplitude \"\"\"\n",
    "    return '/gpfs/dpirvu/collisions/small_fluct_t'+str(nTime)+'_x'+str(nLat)+'_width{:.8f}'.format(x)+'_amp{:.8f}'.format(y)+'_lag'+str(lag)+'_sim'+str(sim)+'_fields.dat'\n",
    "\n",
    "def sim_suffix(col, x, y, lag, sim):\n",
    "    return '_col'+str(col)+'_lag'+str(lag)+'_width{:.3f}'.format(x)+'_amp{:.3f}'.format(y)+'_t'+str(nTime)+'_x'+str(nLat)+'_sim'+str(sim)+'_fields'\n",
    "\n",
    "def simulation(col, x, y, lag, sim):\n",
    "    simulation = extract_data(sim_location(x, y, lag, sim), col)\n",
    "    return np.reshape(simulation, (nTime, nLat))"
   ]
  },
  {
   "cell_type": "markdown",
   "metadata": {},
   "source": [
    "## Plot Spacetime Diagrams"
   ]
  },
  {
   "cell_type": "code",
   "execution_count": 8,
   "metadata": {},
   "outputs": [],
   "source": [
    "def plot_data_from_files(col, x, y, lag, sim):\n",
    "    plt.figure(figsize=(3,3))\n",
    "    tableau = simulation(col, x, y, lag, sim)\n",
    "    im = plt.imshow(tableau, aspect='auto', origin='lower')\n",
    "    plt.title(titles[col]+': wid = {:.3f}'.format(x)+', amp = {:.3f}'.format(y)+', lag = '+str(lag))\n",
    "    plt.colorbar(im)\n",
    "    plt.show()\n",
    "#    plt.savefig(file_plots + 'field' + sim_suffix(col, x, y, lag) + '.png')\n",
    "    return\n",
    "\n",
    "def plot_window_from_files(col, x, y, lag, sim):\n",
    "    plt.figure(figsize=(3, 3))\n",
    "    field = simulation(col, x, y, lag, sim)[int(nTime/2.) : int(nTime-(tean2-tean1)/2.), int(mean1) : int(mean2)]\n",
    "    im = plt.imshow(field, aspect='auto', origin='lower', extent=[int(mean1), int(mean2), int(nTime/2.), int(nTime-(tean2-tean1)/2.)])\n",
    "    plt.title(titles[col]+': wid = {:.3f}'.format(x)+', amp = {:.3f}'.format(y)+', lag = '+str(lag))\n",
    "    plt.colorbar(im)\n",
    "    plt.show()\n",
    "#    plt.savefig(file_plots + 'window_on_field' + sim_suffix(col, x, y, lag) + '.png')\n",
    "    return"
   ]
  },
  {
   "cell_type": "markdown",
   "metadata": {},
   "source": [
    "## Mask Field "
   ]
  },
  {
   "cell_type": "code",
   "execution_count": 9,
   "metadata": {},
   "outputs": [],
   "source": [
    "def add_mask(col, x, y, lag, sim, threshold):\n",
    "    masked_field = []\n",
    "    mask = np.zeros((nTime, nLat))\n",
    "    field = simulation(col, x, y, lag, sim)\n",
    "    for i in range(nLat):\n",
    "        for j in range(nTime):\n",
    "            if field[j,i] >= np.pi+threshold or field[j,i] <= np.pi-threshold:\n",
    "                mask[j,i] = 1\n",
    "    return field * mask\n",
    "\n",
    "def plot_masked_window(col, x, y, lag, sim, threshold):\n",
    "    plt.figure(figsize=(3, 3))\n",
    "    masked_field = add_mask(col, x, y, lag, sim, threshold)[int(nTime/2.) : int(nTime-(tean2-tean1)/2.), int(mean1) : int(mean2)]\n",
    "    im = plt.imshow(masked_field, aspect='auto', origin='lower', extent=[int(mean1), int(mean2), int(nTime/2.), int(nTime-(tean2-tean1)/2.)])\n",
    "    plt.xlabel(r'$dx$'); plt.ylabel(r'$dt$')\n",
    "    plt.title('Masked '+titles[col]+': wid = {:.3f}'.format(x)+', amp = {:.3f}'.format(y)+', lag = '+str(lag))\n",
    "    plt.colorbar(im)\n",
    "    plt.show()\n",
    "#    plt.savefig(file_plots + 'masked_field' + sim_suffix(col, x, y, lag) + '.png')\n",
    "    return\n",
    "\n",
    "def find_peak_positions(col, b_size, x, y, lag, sim, timeslice, th):\n",
    "    \"\"\" Finds x coordinate of peaks in smoothened field for mask applied at threshold. \"\"\"\n",
    "    field = add_mask(col, x, y, lag, sim, th)[timeslice]\n",
    "    peak_positions = scs.find_peaks(field, distance = b_size, height = th)[0]\n",
    "    if field[-1] > 0. and field[0] > 0.:\n",
    "        if field[0] > field[-1]:\n",
    "            peak_positions = np.append(field, [0], axis = 0)\n",
    "        elif field[0] < field[-1]:\n",
    "            peak_positions = np.append(peak_positions, [nLat-1], axis = 0) # this minds potential boundary discontinuities\n",
    "    return peak_positions"
   ]
  },
  {
   "cell_type": "markdown",
   "metadata": {},
   "source": [
    "## Decay Test "
   ]
  },
  {
   "cell_type": "code",
   "execution_count": 12,
   "metadata": {},
   "outputs": [],
   "source": [
    "import matplotlib\n",
    "import numpy as np\n",
    "from copy import copy\n",
    "import matplotlib.pyplot as plt\n",
    "from matplotlib.colors import ListedColormap, LinearSegmentedColormap\n",
    "from mpl_toolkits.axes_grid1 import ImageGrid\n",
    "matplotlib.rcParams.update({'font.size': 20})\n",
    "import matplotlib as mpl\n",
    "\n",
    "def decay_test_1wp(col, x, y, lag, threshold):\n",
    "    counter = 0.\n",
    "    masked_field = add_mask(col, x, y, lag, 12345, threshold)[-1,:]\n",
    "    true = np.count_nonzero(masked_field)\n",
    "    if true > 0.1*nLat:\n",
    "        counter += 1.\n",
    "    return counter\n",
    "\n",
    "def plot_single_wp_trend(col, lagList, threshold):\n",
    "    fig = plt.subplots(figsize=(9*2, 9))\n",
    "    gs = gridspec.GridSpec(1, 2, width_ratios=[4,5]) \n",
    "    ax0 = plt.subplot(gs[0])\n",
    "    ax1 = plt.subplot(gs[1], sharey=ax0)\n",
    "    plt.setp(ax1.get_yticklabels(), visible=False)\n",
    "    plt.subplots_adjust(wspace=.05)\n",
    "    \n",
    "    cmap = ListedColormap([\"darkblue\",\"yellow\"])\n",
    "    extent = [dx*width[0], dx*width[-1], amplitude[0], amplitude[-1]]\n",
    "\n",
    "    stats1 = [[decay_test_1wp(col, x, y, lagList[0], threshold) for x in width] for y in amplitude]\n",
    "    im = ax0.imshow(stats1, aspect='auto', cmap=cmap, origin='lower', extent=extent)\n",
    "    stats2 = [[decay_test_1wp(col, x, y, lagList[1], threshold) for x in width] for y in amplitude]\n",
    "    im = ax1.imshow(stats2, aspect='auto', cmap=cmap, origin='lower', extent=extent)\n",
    "\n",
    "    ax0.set(xlabel = r'$\\epsilon$', ylabel = r'$A$')\n",
    "    ax1.set(xlabel = r'$\\epsilon$')\n",
    "\n",
    "    plt.colorbar(im, ticks = np.arange(2), drawedges='True')\n",
    "    return  np.count_nonzero(stats1), np.count_nonzero(stats2)\n",
    "\n",
    "def contour_test(col, x, y, lag, threshold):\n",
    "    counter = 0\n",
    "    single_wp_field = add_mask(col, x, y, lag, 12345, threshold)[-1,:]\n",
    "    if np.count_nonzero(single_wp_field) > 0.1*nLat:\n",
    "        counter = 1\n",
    "    return counter\n",
    "\n",
    "def decay_test(col, x, y, lag, threshold):\n",
    "    window_size = ( int(nTime-(tean2-tean1)/2.) - int(nTime/2.) ) * (mean2 - mean1)\n",
    "    counter = 0\n",
    "    field = add_mask(col, x, y, lag, 5461, threshold)[int(nTime/2.) : int(nTime-(tean2-tean1)/2.), int(mean1) : int(mean2)]\n",
    "    if np.count_nonzero(field) > 0.1*window_size:\n",
    "        counter = 1\n",
    "    return counter\n",
    "\n",
    "def plot_trend(col, lagList, threshold):\n",
    "    fig = plt.subplots(figsize=(9*2, 9))\n",
    "    gs = gridspec.GridSpec(1, 2, width_ratios=[4.3, 5]) \n",
    "    ax0 = plt.subplot(gs[0])\n",
    "    ax1 = plt.subplot(gs[1], sharey=ax0)\n",
    "    plt.setp(ax1.get_yticklabels(), visible=False)\n",
    "    plt.subplots_adjust(wspace=.05)\n",
    "\n",
    "    cmap = ListedColormap([\"darkblue\",\"yellow\"])\n",
    "    extent = [dx*width[0], dx*width[-1], amplitude[0], amplitude[-1]]\n",
    "    x, y = np.meshgrid(dx*np.asarray(width), np.asarray(amplitude))\n",
    "\n",
    "    stats1 = [[decay_test(col, x, y, lagList[0], threshold) for x in width] for y in amplitude]\n",
    "    ax0.imshow(stats1, aspect='auto', cmap=cmap, origin='lower', extent=extent)\n",
    "    stats2 = [[decay_test(col, x, y, lagList[1], threshold) for x in width] for y in amplitude]\n",
    "    im = ax1.imshow(stats2, aspect='auto', cmap=cmap, origin='lower', extent=extent)\n",
    "\n",
    "    ax0.set(xlabel = r'$\\epsilon$', ylabel = r'$A$')\n",
    "    ax1.set(xlabel = r'$\\epsilon$')\n",
    "\n",
    "    contour1 = [[contour_test(col, x, y, lagList[0], threshold) for x in width] for y in amplitude]\n",
    "    ax0.contour(x, y, contour1, levels=[0.5, 1.5], colors=('k',), linewidths=(1.5,), origin='lower')\n",
    "    contour2 = [[contour_test(col, x, y, lagList[1], threshold) for x in width] for y in amplitude]\n",
    "    ax1.contour(x, y, contour2, levels=[0.5, 1.5], colors=('k',), linewidths=(1.5,), origin='lower')\n",
    "\n",
    "    plt.colorbar(im, ticks=np.arange(2), drawedges='True')\n",
    "    return np.count_nonzero(stats1), np.count_nonzero(stats2)"
   ]
  },
  {
   "cell_type": "code",
   "execution_count": 13,
   "metadata": {},
   "outputs": [
    {
     "data": {
      "text/plain": [
       "array([3013, 3625])"
      ]
     },
     "execution_count": 13,
     "metadata": {},
     "output_type": "execute_result"
    },
    {
     "data": {
      "image/png": "[encoded data removed]",
      "text/plain": [
       "<Figure size 1296x648 with 3 Axes>"
      ]
     },
     "metadata": {
      "needs_background": "light"
     },
     "output_type": "display_data"
    }
   ],
   "source": [
    "np.asarray(plot_single_wp_trend(0, lag, np.pi/2))"
   ]
  },
  {
   "cell_type": "code",
   "execution_count": 29,
   "metadata": {},
   "outputs": [
    {
     "data": {
      "image/png": "[encoded data removed]",
      "text/plain": [
       "<Figure size 1296x648 with 3 Axes>"
      ]
     },
     "metadata": {
      "needs_background": "light"
     },
     "output_type": "display_data"
    },
    {
     "data": {
      "text/plain": [
       "array([4313, 4879])"
      ]
     },
     "execution_count": 29,
     "metadata": {},
     "output_type": "execute_result"
    }
   ],
   "source": [
    "np.asarray(plot_trend(0, lag, np.pi/2))"
   ]
  },
  {
   "cell_type": "code",
   "execution_count": 9,
   "metadata": {},
   "outputs": [
    {
     "data": {
      "text/plain": [
       "8400"
      ]
     },
     "execution_count": 9,
     "metadata": {},
     "output_type": "execute_result"
    }
   ],
   "source": [
    "len(amplitude)*len(width)"
   ]
  }
 ],
 "metadata": {
  "kernelspec": {
   "display_name": "Python 3.7 (conda) - recommended",
   "language": "python",
   "name": "python37-conda"
  },
  "language_info": {
   "codemirror_mode": {
    "name": "ipython",
    "version": 3
   },
   "file_extension": ".py",
   "mimetype": "text/x-python",
   "name": "python",
   "nbconvert_exporter": "python",
   "pygments_lexer": "ipython3",
   "version": "3.7.0"
  }
 },
 "nbformat": 4,
 "nbformat_minor": 4
}
